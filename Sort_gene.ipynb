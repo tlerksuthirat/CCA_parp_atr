{
  "nbformat": 4,
  "nbformat_minor": 0,
  "metadata": {
    "colab": {
      "provenance": [],
      "authorship_tag": "ABX9TyP2eVI2nQHM0Qmj3zQNMswD",
      "include_colab_link": true
    },
    "kernelspec": {
      "name": "python3",
      "display_name": "Python 3"
    },
    "language_info": {
      "name": "python"
    }
  },
  "cells": [
    {
      "cell_type": "markdown",
      "metadata": {
        "id": "view-in-github",
        "colab_type": "text"
      },
      "source": [
        "<a href=\"https://colab.research.google.com/github/tlerksuthirat/CCA_parp_atr/blob/main/Sort_gene.ipynb\" target=\"_parent\"><img src=\"https://colab.research.google.com/assets/colab-badge.svg\" alt=\"Open In Colab\"/></a>"
      ]
    },
    {
      "cell_type": "code",
      "execution_count": null,
      "metadata": {
        "id": "rHcquxzGpnlK"
      },
      "outputs": [],
      "source": [
        "import pandas as pd\n",
        "import os"
      ]
    },
    {
      "cell_type": "code",
      "source": [
        "os.chdir(r'E:\\CCA-Si\\Genotype')"
      ],
      "metadata": {
        "id": "zMModiYspujg"
      },
      "execution_count": null,
      "outputs": []
    },
    {
      "cell_type": "code",
      "source": [
        "#Set the data type to specific column to prevent the warning message\n",
        "#dtype_dict = {166: str, 167: str} #Si01\n",
        "dtype_dict = {135: str, 169: str, 170: str, 166: str, 167: str} #Si05\n",
        "df = pd.read_csv(r'E:\\CCA-Si\\Genotype\\cca_annotated_genomic_variants_Somponart.csv')\n",
        "#df = pd.read_csv(r'E:\\CCA-Si\\Genotype\\anno.722884_Si001_50GB.prioritized.csv', dtype=dtype_dict)\n",
        "df = pd.read_csv(r'E:\\CCA-Si\\Genotype\\anno.722887_Si005_50GB.prioritized.csv', dtype=dtype_dict)\n",
        "#df = pd.read_csv(r'E:\\CCA-Si\\Genotype\\variants0.001_TFK-1.csv')"
      ],
      "metadata": {
        "id": "W2tMm9L_pxuh"
      },
      "execution_count": null,
      "outputs": []
    },
    {
      "cell_type": "code",
      "source": [
        "df.head(5)"
      ],
      "metadata": {
        "id": "x5Eq3e9sp0J3"
      },
      "execution_count": null,
      "outputs": []
    },
    {
      "cell_type": "code",
      "source": [
        "df.shape"
      ],
      "metadata": {
        "id": "5uA8rpWip5zg"
      },
      "execution_count": null,
      "outputs": []
    },
    {
      "cell_type": "code",
      "source": [
        "os.chdir(r'E:\\CCA-Si\\Genotype\\new_sort_2023_08_09')"
      ],
      "metadata": {
        "id": "mLSW4bGSp84u"
      },
      "execution_count": null,
      "outputs": []
    },
    {
      "cell_type": "code",
      "source": [
        "#create header\n",
        "output_file = 'anno.722884_Si_50GB.prioritized.txt'\n",
        "\n",
        "with open(output_file, 'w') as file:\n",
        "    for column_name in df.columns:\n",
        "        file.write(f'{column_name}\\n')"
      ],
      "metadata": {
        "id": "cNC3Iht6qACY"
      },
      "execution_count": null,
      "outputs": []
    },
    {
      "cell_type": "code",
      "source": [
        "#27 genes update 09 Aug 2023\n",
        "new_sort_repair = ['ARID1A', 'ARID1B', 'ATM', 'ATR', 'ATRX', 'BAP1','BARD1', 'BLM', 'BRCA1', 'BRCA2', 'BRIP1',\n",
        "                   'CHEK2', 'FANCA','FANCC','FANCD2','FANCE','FANCF','FANCG','FANCL','MRE11', 'MRE11A'\n",
        "                   'NBN','PALB2','RAD50','RAD51','RAD51B','RAD51C','WRN']"
      ],
      "metadata": {
        "id": "YlJSWBCqqDuo"
      },
      "execution_count": null,
      "outputs": []
    },
    {
      "cell_type": "code",
      "source": [
        "#find exactly string\n",
        "mask = df['Gene.refGene'].isin(new_sort_repair)"
      ],
      "metadata": {
        "id": "dmD6zEWgqG-1"
      },
      "execution_count": null,
      "outputs": []
    },
    {
      "cell_type": "code",
      "source": [
        "filtered_df = df[mask]"
      ],
      "metadata": {
        "id": "njT_hSZJqKah"
      },
      "execution_count": null,
      "outputs": []
    },
    {
      "cell_type": "code",
      "source": [
        "filtered_df.head(5)"
      ],
      "metadata": {
        "id": "3jXkfjpzqNVo"
      },
      "execution_count": null,
      "outputs": []
    },
    {
      "cell_type": "code",
      "source": [
        "filtered_df.shape"
      ],
      "metadata": {
        "id": "ZvxQBii_qP30"
      },
      "execution_count": null,
      "outputs": []
    },
    {
      "cell_type": "code",
      "source": [
        "filtered_df.to_csv('anno.722884_Si005_50GB.prioritized_DDR_sort.csv', index=False)"
      ],
      "metadata": {
        "id": "wsdfbGItqTUn"
      },
      "execution_count": null,
      "outputs": []
    }
  ]
}