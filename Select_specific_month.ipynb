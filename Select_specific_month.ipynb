{
  "nbformat": 4,
  "nbformat_minor": 0,
  "metadata": {
    "colab": {
      "provenance": [],
      "authorship_tag": "ABX9TyOE8zLB3Fq5i4xJaPgWgFGV",
      "include_colab_link": true
    },
    "kernelspec": {
      "name": "python3",
      "display_name": "Python 3"
    },
    "language_info": {
      "name": "python"
    }
  },
  "cells": [
    {
      "cell_type": "markdown",
      "metadata": {
        "id": "view-in-github",
        "colab_type": "text"
      },
      "source": [
        "<a href=\"https://colab.research.google.com/github/tlerksuthirat/CCA_parp_atr/blob/main/Select_specific_month.ipynb\" target=\"_parent\"><img src=\"https://colab.research.google.com/assets/colab-badge.svg\" alt=\"Open In Colab\"/></a>"
      ]
    },
    {
      "cell_type": "code",
      "execution_count": 1,
      "metadata": {
        "id": "bJ4ohMA-b5e_"
      },
      "outputs": [],
      "source": [
        "import pandas as pd"
      ]
    },
    {
      "cell_type": "code",
      "source": [
        "df = pd.read_csv(\"/content/02_2017_EN_process_unique.csv\")"
      ],
      "metadata": {
        "id": "thLWAcCycCqw"
      },
      "execution_count": 4,
      "outputs": []
    },
    {
      "cell_type": "code",
      "source": [
        "df.shape"
      ],
      "metadata": {
        "colab": {
          "base_uri": "https://localhost:8080/"
        },
        "id": "kvd40D1fcF2I",
        "outputId": "229476d9-e142-44a5-9432-e43ee745e869"
      },
      "execution_count": 5,
      "outputs": [
        {
          "output_type": "execute_result",
          "data": {
            "text/plain": [
              "(107837, 14)"
            ]
          },
          "metadata": {},
          "execution_count": 5
        }
      ]
    },
    {
      "cell_type": "code",
      "source": [
        "#convert date column to datetime format\n",
        "df['created_at'] = pd.to_datetime(df['created_at'])\n",
        "#create new column call month and extract month from date column\n",
        "df['month'] = df['created_at'].dt.month"
      ],
      "metadata": {
        "id": "36m5tV30q94i"
      },
      "execution_count": 6,
      "outputs": []
    },
    {
      "cell_type": "code",
      "source": [
        "#Show the first 5 rows\n",
        "df.head(5)"
      ],
      "metadata": {
        "colab": {
          "base_uri": "https://localhost:8080/",
          "height": 634
        },
        "id": "gwF9yfTCrAb6",
        "outputId": "5561748e-a29d-4fbc-dc64-1ed39e0b2f78"
      },
      "execution_count": 7,
      "outputs": [
        {
          "output_type": "execute_result",
          "data": {
            "text/plain": [
              "      author_id geo.place_id         username  author_followers  \\\n",
              "0  4.736514e+08          NaN         dwelch57               260   \n",
              "1  9.133966e+17          NaN      smokemdanno                43   \n",
              "2  8.235139e+17          NaN   RefinedHalifax               419   \n",
              "3  4.986478e+08          NaN        ToonCoyne               427   \n",
              "4  1.276125e+09          NaN  pattipetersonny              1861   \n",
              "\n",
              "   author_tweets                                 author_description  \\\n",
              "0          72687  Nurse Consultant Seattle Seahawks fan Boise St...   \n",
              "1           7440                                      Living life ~   \n",
              "2           1813  Locally published magazine showcasing people, ...   \n",
              "3          21244  NUFC sport in general. fiercly patriotic but n...   \n",
              "4         121453                                    #AnyoneButTrump   \n",
              "\n",
              "                 author_location  \\\n",
              "0                     Idaho, USA   \n",
              "1                            USA   \n",
              "2           Halifax, Nova Scotia   \n",
              "3  Wallsend. Newcastle Upon Tyne   \n",
              "4                            NaN   \n",
              "\n",
              "                                               tweet  \\\n",
              "0  @realDonaldTrump Boy your dementia is showing ...   \n",
              "1          @washingtonpost Dementia will do this ...   \n",
              "2  Age-related challenges like dementia can prese...   \n",
              "3  @SteveBo22 @CAWPBT You cant stop breeding mate...   \n",
              "4  @realDonaldTrump Get checked for dementia at y...   \n",
              "\n",
              "                 created_at  retweets  replies  likes  quote_count  \\\n",
              "0 2017-12-31 23:59:32+00:00         0        0      0            0   \n",
              "1 2017-12-31 23:59:23+00:00         0        0      0            0   \n",
              "2 2017-12-31 23:59:22+00:00         0        0      0            0   \n",
              "3 2017-12-31 23:58:59+00:00         0        1      0            0   \n",
              "4 2017-12-31 23:57:39+00:00         0        0      1            0   \n",
              "\n",
              "                                           processed  month  \n",
              "0                 boy your dementia is showing today     12  \n",
              "1                              dementia will do this     12  \n",
              "2  age related challenges like dementia can prese...     12  \n",
              "3  you can not stop breeding mate nature looks af...     12  \n",
              "4          get checked for dementia at your physical     12  "
            ],
            "text/html": [
              "\n",
              "  <div id=\"df-35df3d05-9f34-40fe-b8c0-08b84551b61b\">\n",
              "    <div class=\"colab-df-container\">\n",
              "      <div>\n",
              "<style scoped>\n",
              "    .dataframe tbody tr th:only-of-type {\n",
              "        vertical-align: middle;\n",
              "    }\n",
              "\n",
              "    .dataframe tbody tr th {\n",
              "        vertical-align: top;\n",
              "    }\n",
              "\n",
              "    .dataframe thead th {\n",
              "        text-align: right;\n",
              "    }\n",
              "</style>\n",
              "<table border=\"1\" class=\"dataframe\">\n",
              "  <thead>\n",
              "    <tr style=\"text-align: right;\">\n",
              "      <th></th>\n",
              "      <th>author_id</th>\n",
              "      <th>geo.place_id</th>\n",
              "      <th>username</th>\n",
              "      <th>author_followers</th>\n",
              "      <th>author_tweets</th>\n",
              "      <th>author_description</th>\n",
              "      <th>author_location</th>\n",
              "      <th>tweet</th>\n",
              "      <th>created_at</th>\n",
              "      <th>retweets</th>\n",
              "      <th>replies</th>\n",
              "      <th>likes</th>\n",
              "      <th>quote_count</th>\n",
              "      <th>processed</th>\n",
              "      <th>month</th>\n",
              "    </tr>\n",
              "  </thead>\n",
              "  <tbody>\n",
              "    <tr>\n",
              "      <th>0</th>\n",
              "      <td>4.736514e+08</td>\n",
              "      <td>NaN</td>\n",
              "      <td>dwelch57</td>\n",
              "      <td>260</td>\n",
              "      <td>72687</td>\n",
              "      <td>Nurse Consultant Seattle Seahawks fan Boise St...</td>\n",
              "      <td>Idaho, USA</td>\n",
              "      <td>@realDonaldTrump Boy your dementia is showing ...</td>\n",
              "      <td>2017-12-31 23:59:32+00:00</td>\n",
              "      <td>0</td>\n",
              "      <td>0</td>\n",
              "      <td>0</td>\n",
              "      <td>0</td>\n",
              "      <td>boy your dementia is showing today</td>\n",
              "      <td>12</td>\n",
              "    </tr>\n",
              "    <tr>\n",
              "      <th>1</th>\n",
              "      <td>9.133966e+17</td>\n",
              "      <td>NaN</td>\n",
              "      <td>smokemdanno</td>\n",
              "      <td>43</td>\n",
              "      <td>7440</td>\n",
              "      <td>Living life ~</td>\n",
              "      <td>USA</td>\n",
              "      <td>@washingtonpost Dementia will do this ...</td>\n",
              "      <td>2017-12-31 23:59:23+00:00</td>\n",
              "      <td>0</td>\n",
              "      <td>0</td>\n",
              "      <td>0</td>\n",
              "      <td>0</td>\n",
              "      <td>dementia will do this</td>\n",
              "      <td>12</td>\n",
              "    </tr>\n",
              "    <tr>\n",
              "      <th>2</th>\n",
              "      <td>8.235139e+17</td>\n",
              "      <td>NaN</td>\n",
              "      <td>RefinedHalifax</td>\n",
              "      <td>419</td>\n",
              "      <td>1813</td>\n",
              "      <td>Locally published magazine showcasing people, ...</td>\n",
              "      <td>Halifax, Nova Scotia</td>\n",
              "      <td>Age-related challenges like dementia can prese...</td>\n",
              "      <td>2017-12-31 23:59:22+00:00</td>\n",
              "      <td>0</td>\n",
              "      <td>0</td>\n",
              "      <td>0</td>\n",
              "      <td>0</td>\n",
              "      <td>age related challenges like dementia can prese...</td>\n",
              "      <td>12</td>\n",
              "    </tr>\n",
              "    <tr>\n",
              "      <th>3</th>\n",
              "      <td>4.986478e+08</td>\n",
              "      <td>NaN</td>\n",
              "      <td>ToonCoyne</td>\n",
              "      <td>427</td>\n",
              "      <td>21244</td>\n",
              "      <td>NUFC sport in general. fiercly patriotic but n...</td>\n",
              "      <td>Wallsend. Newcastle Upon Tyne</td>\n",
              "      <td>@SteveBo22 @CAWPBT You cant stop breeding mate...</td>\n",
              "      <td>2017-12-31 23:58:59+00:00</td>\n",
              "      <td>0</td>\n",
              "      <td>1</td>\n",
              "      <td>0</td>\n",
              "      <td>0</td>\n",
              "      <td>you can not stop breeding mate nature looks af...</td>\n",
              "      <td>12</td>\n",
              "    </tr>\n",
              "    <tr>\n",
              "      <th>4</th>\n",
              "      <td>1.276125e+09</td>\n",
              "      <td>NaN</td>\n",
              "      <td>pattipetersonny</td>\n",
              "      <td>1861</td>\n",
              "      <td>121453</td>\n",
              "      <td>#AnyoneButTrump</td>\n",
              "      <td>NaN</td>\n",
              "      <td>@realDonaldTrump Get checked for dementia at y...</td>\n",
              "      <td>2017-12-31 23:57:39+00:00</td>\n",
              "      <td>0</td>\n",
              "      <td>0</td>\n",
              "      <td>1</td>\n",
              "      <td>0</td>\n",
              "      <td>get checked for dementia at your physical</td>\n",
              "      <td>12</td>\n",
              "    </tr>\n",
              "  </tbody>\n",
              "</table>\n",
              "</div>\n",
              "      <button class=\"colab-df-convert\" onclick=\"convertToInteractive('df-35df3d05-9f34-40fe-b8c0-08b84551b61b')\"\n",
              "              title=\"Convert this dataframe to an interactive table.\"\n",
              "              style=\"display:none;\">\n",
              "        \n",
              "  <svg xmlns=\"http://www.w3.org/2000/svg\" height=\"24px\"viewBox=\"0 0 24 24\"\n",
              "       width=\"24px\">\n",
              "    <path d=\"M0 0h24v24H0V0z\" fill=\"none\"/>\n",
              "    <path d=\"M18.56 5.44l.94 2.06.94-2.06 2.06-.94-2.06-.94-.94-2.06-.94 2.06-2.06.94zm-11 1L8.5 8.5l.94-2.06 2.06-.94-2.06-.94L8.5 2.5l-.94 2.06-2.06.94zm10 10l.94 2.06.94-2.06 2.06-.94-2.06-.94-.94-2.06-.94 2.06-2.06.94z\"/><path d=\"M17.41 7.96l-1.37-1.37c-.4-.4-.92-.59-1.43-.59-.52 0-1.04.2-1.43.59L10.3 9.45l-7.72 7.72c-.78.78-.78 2.05 0 2.83L4 21.41c.39.39.9.59 1.41.59.51 0 1.02-.2 1.41-.59l7.78-7.78 2.81-2.81c.8-.78.8-2.07 0-2.86zM5.41 20L4 18.59l7.72-7.72 1.47 1.35L5.41 20z\"/>\n",
              "  </svg>\n",
              "      </button>\n",
              "      \n",
              "  <style>\n",
              "    .colab-df-container {\n",
              "      display:flex;\n",
              "      flex-wrap:wrap;\n",
              "      gap: 12px;\n",
              "    }\n",
              "\n",
              "    .colab-df-convert {\n",
              "      background-color: #E8F0FE;\n",
              "      border: none;\n",
              "      border-radius: 50%;\n",
              "      cursor: pointer;\n",
              "      display: none;\n",
              "      fill: #1967D2;\n",
              "      height: 32px;\n",
              "      padding: 0 0 0 0;\n",
              "      width: 32px;\n",
              "    }\n",
              "\n",
              "    .colab-df-convert:hover {\n",
              "      background-color: #E2EBFA;\n",
              "      box-shadow: 0px 1px 2px rgba(60, 64, 67, 0.3), 0px 1px 3px 1px rgba(60, 64, 67, 0.15);\n",
              "      fill: #174EA6;\n",
              "    }\n",
              "\n",
              "    [theme=dark] .colab-df-convert {\n",
              "      background-color: #3B4455;\n",
              "      fill: #D2E3FC;\n",
              "    }\n",
              "\n",
              "    [theme=dark] .colab-df-convert:hover {\n",
              "      background-color: #434B5C;\n",
              "      box-shadow: 0px 1px 3px 1px rgba(0, 0, 0, 0.15);\n",
              "      filter: drop-shadow(0px 1px 2px rgba(0, 0, 0, 0.3));\n",
              "      fill: #FFFFFF;\n",
              "    }\n",
              "  </style>\n",
              "\n",
              "      <script>\n",
              "        const buttonEl =\n",
              "          document.querySelector('#df-35df3d05-9f34-40fe-b8c0-08b84551b61b button.colab-df-convert');\n",
              "        buttonEl.style.display =\n",
              "          google.colab.kernel.accessAllowed ? 'block' : 'none';\n",
              "\n",
              "        async function convertToInteractive(key) {\n",
              "          const element = document.querySelector('#df-35df3d05-9f34-40fe-b8c0-08b84551b61b');\n",
              "          const dataTable =\n",
              "            await google.colab.kernel.invokeFunction('convertToInteractive',\n",
              "                                                     [key], {});\n",
              "          if (!dataTable) return;\n",
              "\n",
              "          const docLinkHtml = 'Like what you see? Visit the ' +\n",
              "            '<a target=\"_blank\" href=https://colab.research.google.com/notebooks/data_table.ipynb>data table notebook</a>'\n",
              "            + ' to learn more about interactive tables.';\n",
              "          element.innerHTML = '';\n",
              "          dataTable['output_type'] = 'display_data';\n",
              "          await google.colab.output.renderOutput(dataTable, element);\n",
              "          const docLink = document.createElement('div');\n",
              "          docLink.innerHTML = docLinkHtml;\n",
              "          element.appendChild(docLink);\n",
              "        }\n",
              "      </script>\n",
              "    </div>\n",
              "  </div>\n",
              "  "
            ]
          },
          "metadata": {},
          "execution_count": 7
        }
      ]
    },
    {
      "cell_type": "code",
      "source": [
        "# Get month number\n",
        "unique_months = df['month'].unique()"
      ],
      "metadata": {
        "id": "o6vWiek5rFGp"
      },
      "execution_count": 8,
      "outputs": []
    },
    {
      "cell_type": "code",
      "source": [
        "print(unique_months)"
      ],
      "metadata": {
        "colab": {
          "base_uri": "https://localhost:8080/"
        },
        "id": "BpYfCSSzrHPa",
        "outputId": "97ac25f5-58c1-4aef-c65d-4617c1570550"
      },
      "execution_count": 9,
      "outputs": [
        {
          "output_type": "stream",
          "name": "stdout",
          "text": [
            "[12 11]\n"
          ]
        }
      ]
    },
    {
      "cell_type": "code",
      "source": [
        "# Iterate through the unique months, filter the DataFrame, and save the data to separate CSV files\n",
        "for month in unique_months:\n",
        "    month_df = df[df['month'] == month]\n",
        "    output_file = f'select_month_{month}.csv'\n",
        "    month_df.to_csv(output_file, index=False)"
      ],
      "metadata": {
        "id": "0iNDIW9rrI3z"
      },
      "execution_count": 10,
      "outputs": []
    }
  ]
}